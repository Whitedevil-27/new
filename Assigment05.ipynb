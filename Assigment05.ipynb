{
 "cells": [
  {
   "cell_type": "markdown",
   "id": "e51280aa-da5c-4d5a-857f-2e2d21f39b54",
   "metadata": {},
   "source": [
    "# Assigment"
   ]
  },
  {
   "cell_type": "markdown",
   "id": "8d354985-87bb-44bc-8a52-0d0642e87f6b",
   "metadata": {},
   "source": [
    "## Quesion 1"
   ]
  },
  {
   "cell_type": "markdown",
   "id": "fcceaa5b-71a9-4aa8-9baa-dd854a1affb0",
   "metadata": {},
   "source": [
    "Explain Class and Object with respect to Object-Oriented Programming. Give a suitable example."
   ]
  },
  {
   "cell_type": "markdown",
   "id": "19947d83-b71a-4429-af3e-5684d894af6c",
   "metadata": {},
   "source": [
    "## Answer"
   ]
  },
  {
   "cell_type": "markdown",
   "id": "4fe08e12-d3c7-47b4-9506-fad1aaafc035",
   "metadata": {},
   "source": [
    "### Python Classes\n",
    "A class is considered as a blueprint of objects. We can think of the class as a sketch (prototype) of a house. It contains all the details about the floors, doors, windows, etc. Based on these descriptions we build the house. House is the object.\n",
    "\n",
    "Since many houses can be made from the same description, we can create many objects from a class."
   ]
  },
  {
   "cell_type": "markdown",
   "id": "04596c54-50b5-41c8-8f35-3ca070f3892b",
   "metadata": {},
   "source": [
    "### Define Python Class\n",
    "We use the class keyword to create a class in Python. For example,"
   ]
  },
  {
   "cell_type": "code",
   "execution_count": null,
   "id": "9d79bded-c956-47bd-a79b-721108cd884b",
   "metadata": {},
   "outputs": [],
   "source": [
    "class ClassName:\n",
    "    # class definition "
   ]
  },
  {
   "cell_type": "markdown",
   "id": "e1fbba98-1ec6-4991-a12d-0d20cdce973e",
   "metadata": {},
   "source": [
    "Here, we have created a class named ClassName.\n",
    "\n",
    "Let's see an example,"
   ]
  },
  {
   "cell_type": "code",
   "execution_count": null,
   "id": "2b514d54-e3a9-4811-a1da-0008db7fe64d",
   "metadata": {},
   "outputs": [],
   "source": [
    "class Bike:\n",
    "    name = \"\"\n",
    "    gear = 0"
   ]
  },
  {
   "cell_type": "markdown",
   "id": "24a603a0-5cb3-457c-830b-8caf317a70f9",
   "metadata": {},
   "source": [
    "Here,\n",
    "- Bike - the name of the class\n",
    "- name/gear - variables inside the class with default values \"\" and 0 respectively.\n",
    "\n",
    "Note: The variables inside a class are called attributes."
   ]
  },
  {
   "cell_type": "markdown",
   "id": "0d5a2314-c014-40b5-b5ca-0ca1fd9f3baa",
   "metadata": {},
   "source": [
    "### Python Objects\n",
    "An object is called an instance of a class. For example, suppose Bike is a class then we can create objects like bike1, bike2, etc from the class.\n",
    "\n",
    "Here's the syntax to create an object."
   ]
  },
  {
   "cell_type": "code",
   "execution_count": null,
   "id": "0f1a6db4-bef3-4ca6-bfa5-2876b50d667c",
   "metadata": {},
   "outputs": [],
   "source": [
    "objectName = ClassName()"
   ]
  },
  {
   "cell_type": "markdown",
   "id": "0d652a32-7ec4-4d66-883d-5bd8cb7174fa",
   "metadata": {},
   "source": [
    "Let's see an example,"
   ]
  },
  {
   "cell_type": "code",
   "execution_count": null,
   "id": "4c9ee507-531e-408c-b9b2-188970dc6d58",
   "metadata": {},
   "outputs": [],
   "source": [
    "# create class\n",
    "class Bike:\n",
    "    name = \"\"\n",
    "    gear = 0\n",
    "\n",
    "# create objects of class\n",
    "bike1 = Bike()"
   ]
  },
  {
   "cell_type": "markdown",
   "id": "4221f01d-eb8e-4808-922a-90c41fb3259c",
   "metadata": {},
   "source": [
    "Here, bike1 is the object of the class. Now, we can use this object to access the class attributes."
   ]
  },
  {
   "cell_type": "markdown",
   "id": "7a6a4054-9d4c-47fd-8e02-ebc287481766",
   "metadata": {},
   "source": [
    "### Access Class Attributes Using Objects\n",
    "We use the . notation to access the attributes of a class. For example,"
   ]
  },
  {
   "cell_type": "code",
   "execution_count": null,
   "id": "b5e84653-40de-498e-9ea8-17f4f411accd",
   "metadata": {},
   "outputs": [],
   "source": [
    "# modify the name attribute\n",
    "bike1.name = \"Mountain Bike\"\n",
    "\n",
    "# access the gear attribute\n",
    "bike1.gear"
   ]
  },
  {
   "cell_type": "markdown",
   "id": "6113ab47-ffc8-4cc5-b08d-d6adbd65fe16",
   "metadata": {},
   "source": [
    "Here, we have used bike1.name and bike1.gear to change and access the value of name and gear attribute respectively."
   ]
  },
  {
   "cell_type": "markdown",
   "id": "b3b38562-9a5f-4ff5-aa2f-24a5e25b6d20",
   "metadata": {},
   "source": [
    "Example : Python Class and Objects"
   ]
  },
  {
   "cell_type": "code",
   "execution_count": 1,
   "id": "9dad8d06-996b-4f02-aeca-e9999b6d66d0",
   "metadata": {},
   "outputs": [
    {
     "name": "stdout",
     "output_type": "stream",
     "text": [
      "Name: Mountain Bike, Gears: 11 \n"
     ]
    }
   ],
   "source": [
    "# define a class\n",
    "class Bike:\n",
    "    name = \"\"\n",
    "    gear = 0\n",
    "\n",
    "# create object of class\n",
    "bike1 = Bike()\n",
    "\n",
    "# access attributes and assign new values\n",
    "bike1.gear = 11\n",
    "bike1.name = \"Mountain Bike\"\n",
    "\n",
    "print(f\"Name: {bike1.name}, Gears: {bike1.gear} \")"
   ]
  },
  {
   "cell_type": "markdown",
   "id": "a24cd43f-434a-40af-94db-522ef601ea80",
   "metadata": {},
   "source": [
    "In the above example, we have defined the class named Bike with two attributes: name and gear.\n",
    "\n",
    "We have also created an object bike1 of the class Bike.\n",
    "\n",
    "Finally, we have accessed and modified the attributes of an object using the . notation."
   ]
  },
  {
   "cell_type": "markdown",
   "id": "5e49d932-513c-41b8-b861-87d3e7ce88b3",
   "metadata": {},
   "source": [
    "### Question 2"
   ]
  },
  {
   "cell_type": "markdown",
   "id": "51b5041b-5cb5-4d85-be8a-3d3e33528954",
   "metadata": {},
   "source": [
    "Name the four pillars of OOPs."
   ]
  },
  {
   "cell_type": "markdown",
   "id": "7c6262e8-6732-4183-9a81-ca7127d81d4d",
   "metadata": {},
   "source": [
    "### Answer"
   ]
  },
  {
   "cell_type": "markdown",
   "id": "1b313db2-fdbe-4a16-94d1-38b7f14d77cc",
   "metadata": {},
   "source": [
    "The Object-Oriented Programming system, also known as OOPS.\n",
    "\n",
    "There are four pillars:\n",
    "1. Encapsulation\n",
    "2. Inheritance\n",
    "3. Polymorphism\n",
    "4. Abstraction\n",
    "\n",
    "### Encapsulation\n",
    "To enclose something in or as if in a capsule.\n",
    "Example:"
   ]
  },
  {
   "cell_type": "code",
   "execution_count": 2,
   "id": "e4fb396d-0e5b-4668-a746-e396bf266536",
   "metadata": {},
   "outputs": [
    {
     "name": "stdout",
     "output_type": "stream",
     "text": [
      "Cat says: meow\n",
      "Cat says: meow\n"
     ]
    }
   ],
   "source": [
    "class Cat:\n",
    "\n",
    "    def __init__(self):\n",
    "        self.__sound = \"meow\"\n",
    "\n",
    "    def speak(self):\n",
    "        print(\"Cat says: {}\".format(self.__sound))\n",
    "\n",
    "\n",
    "c = Cat()\n",
    "c.speak()\n",
    "\n",
    "# change the price\n",
    "c.sound = \"bow-wow\"\n",
    "c.speak()\n"
   ]
  },
  {
   "cell_type": "markdown",
   "id": "7b556514-4926-48cd-bc93-39001cb0d66f",
   "metadata": {},
   "source": [
    "Here are some practical examples of encapsulation:\n",
    "\n",
    "1. A bank application does not allow a client to change an account’s balance.\n",
    "2. This is also used to hide the data. Let’s say you log into your email account. There are a lot of processes in the backend that you have no control over. Your password will most likely be retrieved in an encrypted form, verified, and only then will you be given access. You do not have any control over how the password is verified."
   ]
  },
  {
   "cell_type": "markdown",
   "id": "f353fa67-ac24-4ac4-aca7-d44b5163c021",
   "metadata": {},
   "source": [
    "### Inheritance\n",
    "To receive a quality, characteristic, etc., from your parents or family,inheritance allows us to define a class that inherits methods and properties from another class.\n",
    "\n",
    "The base class is called the parent class, and the derived class is known as a child.\n",
    "\n",
    "Let’s look at an example."
   ]
  },
  {
   "cell_type": "code",
   "execution_count": 3,
   "id": "a2742d7c-a0ee-4fd4-b9f8-f98c5534734a",
   "metadata": {},
   "outputs": [
    {
     "name": "stdout",
     "output_type": "stream",
     "text": [
      "Hey, I am from Rodrigues family and there are 5 members in family\n",
      "Hey, I am from Bezos family and there are 15 members in family\n",
      "The Bezos family has roots from United States of America\n"
     ]
    }
   ],
   "source": [
    "class Family:\n",
    "    def __init__(self, family_name, number_of_members, country):\n",
    "        self.family_name = family_name\n",
    "        self.number_of_members = number_of_members\n",
    "        self.country=country\n",
    "\n",
    "    def member_says(self):\n",
    "        print(f\"Hey, I am from {self.family_name} family and there are {self.number_of_members} members in family\")\n",
    "\n",
    "\n",
    "class Family_detailed(Family):\n",
    "\n",
    "    def which_country(self):\n",
    "        print(f\"The {self.family_name} family has roots from {self.country}\" )\n",
    "\n",
    "\n",
    "a = Family(\"Rodrigues\",5,\"Peru\")\n",
    "b = Family_detailed(\"Bezos\",15,\"United States of America\")\n",
    "\n",
    "a.member_says()\n",
    "b.member_says()\n",
    "b.which_country()"
   ]
  },
  {
   "cell_type": "markdown",
   "id": "57a5b5cc-6852-4402-908a-6d97dad8694b",
   "metadata": {},
   "source": [
    "### Abstraction\n",
    "A general idea rather than one that relates to a particular object, person, or situation.In simple terms, abstraction hides the internal implementations of a process or method from the user. In this way, the user knows what they do but not how it is done.\n",
    "\n",
    "Abstraction is a bit different from the other pillars. Python does not grant abstract classes by default. Instead, Python comes with a module that fits the base for Abstract Base classes (ABC). A method becomes abstract when decorated with the keyword @abstractmethod.\n",
    "\n",
    "Let’s use a simple example."
   ]
  },
  {
   "cell_type": "code",
   "execution_count": 4,
   "id": "f0112052-1edd-4f5f-b03e-047d6c171512",
   "metadata": {},
   "outputs": [
    {
     "name": "stdout",
     "output_type": "stream",
     "text": [
      "I assign work to and manage team\n",
      "I complete the work assigned to me\n"
     ]
    }
   ],
   "source": [
    "from abc import ABC, abstractmethod\n",
    "class Company(ABC):\n",
    "\n",
    "    def work(self):\n",
    "        pass\n",
    "\n",
    "class Manager(Company):\n",
    "\n",
    "    def work(self):\n",
    "        print(\"I assign work to and manage team\")\n",
    "\n",
    "class Employee(Company):\n",
    "\n",
    "    def work(self):\n",
    "        print(\"I complete the work assigned to me\")\n",
    "\n",
    "# Driver code\n",
    "R = Manager()\n",
    "R.work()\n",
    "\n",
    "K = Employee()\n",
    "K.work()"
   ]
  },
  {
   "cell_type": "markdown",
   "id": "f4fa2287-00d4-4f9b-a31c-ed2566b0bd6b",
   "metadata": {},
   "source": [
    "Polymorphism\n",
    "The condition of occurrence in several different forms.In programming terms, polymorphism refers to the use of a single method/operator to represent different types in different scenarios.\n",
    "\n",
    "Python can use multiple classes in the same way, through polymorphism. To serve this purpose, we can create a loop that iterates through a tuple of objects. This will allow us to call methods without looking at the class to which the object points."
   ]
  },
  {
   "cell_type": "code",
   "execution_count": 5,
   "id": "1ea5831f-ac3c-49ff-bb1f-4bbcf4096468",
   "metadata": {},
   "outputs": [
    {
     "name": "stdout",
     "output_type": "stream",
     "text": [
      "This function determines class 1\n",
      "This function determines class 2.\n"
     ]
    }
   ],
   "source": [
    "class Class1(): \n",
    "    def pt(self): \n",
    "        print(\"This function determines class 1\") \n",
    "\n",
    "class Class2(): \n",
    "    def pt(self): \n",
    "        print(\"This function determines class 2.\") \n",
    "\n",
    "obj1 = Class1() \n",
    "obj2 = Class2() \n",
    "for type in (obj1, obj2): # creating a loop to iterate through the obj1, obj2\n",
    "    type.pt() "
   ]
  },
  {
   "cell_type": "markdown",
   "id": "f2b6c299-a7d1-4670-9523-916253a1089f",
   "metadata": {},
   "source": [
    "### Question 3"
   ]
  },
  {
   "cell_type": "markdown",
   "id": "f10d39dc-3e8c-4097-b7e1-67e04ba78832",
   "metadata": {},
   "source": [
    "Explain why the __init__() function is used. Give a suitable example."
   ]
  },
  {
   "cell_type": "markdown",
   "id": "265a7fc0-0bc4-4a7d-ae76-93e9fee8f845",
   "metadata": {},
   "source": [
    "### Answer"
   ]
  },
  {
   "cell_type": "markdown",
   "id": "7915c927-2cda-4659-b233-1348d907e135",
   "metadata": {},
   "source": [
    "A constructor of a class in Python is defined using the __init__ method. The python __init__ is a reserved method in Python that behaves like any other member function of the class, except the statements written under its definition are used to initialize the data members of a class in Python, i.e. it basically contains assignment statements. This method is automatically called at the time of class instantiation or object creation. \n",
    "\n",
    "In case of inheritance, the sub class inherits the __init__ method of the base class along with the other accessible class members. Hence, the object of the base class automatically calls the python __init__ constructor of the base class at the time of its creation since it is called by the sub class __init__ constructor. "
   ]
  },
  {
   "cell_type": "markdown",
   "id": "a7262e78-24b8-456c-916b-8e65283d55e2",
   "metadata": {},
   "source": [
    " Syntax and Examples"
   ]
  },
  {
   "cell_type": "code",
   "execution_count": 7,
   "id": "f37086c1-b0c2-41ec-b56c-1f5d33e22123",
   "metadata": {},
   "outputs": [
    {
     "name": "stdout",
     "output_type": "stream",
     "text": [
      "Preeti Srivastava  teaches  Computer Science\n"
     ]
    }
   ],
   "source": [
    "class Teacher:\n",
    "    # definition for init method or constructor\n",
    "    def __init__(self, name, subject):\n",
    "        self.name = name\n",
    "        self.subject = subject\n",
    "     # Random member function\n",
    "    def show(self):\n",
    "        print(self.name, \" teaches \", self.subject)\n",
    "T = Teacher('Preeti Srivastava', \"Computer Science\")   # init is invoked here\n",
    "T.show()"
   ]
  },
  {
   "cell_type": "markdown",
   "id": "361aa81e-cbe5-4569-8c7b-6452d38f7ec7",
   "metadata": {},
   "source": [
    "### Types of __init__ Constructor\n",
    "There are mainly three types of Python __init__ constructors:\n",
    "\n",
    "1. Default __init__ constructor:\n",
    "\n",
    "  The default __init__ constructor in Python is the constructor that does not accept any parameters, except for the ‘self’ parameter. The ‘self’ is a reference object for that class.The syntax for defining a default __init__ constructor.\n",
    "  \n",
    "2. Parameterised __init__ Constructor:\n",
    "\n",
    "When we want to pass arguments in the constructor of a class, we make use of the parameterised __init__ method. It accepts one or more than one argument other than the self. The syntax followed while defining a parameterised __init__ constructor.\n",
    "\n",
    "3. __init__ With Default Parameters:\n",
    "\n",
    "Python also allows us to define a __init__ method with default parameters inside a class. We use the following syntax to pass a default argument in an __init__ method within a class."
   ]
  },
  {
   "cell_type": "markdown",
   "id": "290d2122-ff71-46f4-aa4f-d9b4a9cc2905",
   "metadata": {},
   "source": [
    "### Question 4"
   ]
  },
  {
   "cell_type": "markdown",
   "id": "2bb1bdfd-9521-4133-9207-a51e6145e528",
   "metadata": {},
   "source": [
    "Why self is used in OOPs?"
   ]
  },
  {
   "cell_type": "markdown",
   "id": "b45a3c1d-9767-4849-8c5b-0da44394dabb",
   "metadata": {},
   "source": [
    "### Answer"
   ]
  },
  {
   "cell_type": "markdown",
   "id": "a2d47452-2c5a-46ba-9363-93e2677fc9c9",
   "metadata": {},
   "source": [
    "The self parameter is a reference to the current instance of the class, and is used to access variables that belongs to the class.\n",
    "\n",
    "It does not have to be named self , you can call it whatever you like, but it has to be the first parameter of any function in the class:\n",
    "\n",
    "Example"
   ]
  },
  {
   "cell_type": "code",
   "execution_count": 8,
   "id": "6019062d-3043-4218-9db8-87055f7d070b",
   "metadata": {},
   "outputs": [
    {
     "name": "stdout",
     "output_type": "stream",
     "text": [
      "Hello my name is John\n"
     ]
    }
   ],
   "source": [
    "class Person:\n",
    "  def __init__(mysillyobject, name, age):\n",
    "    mysillyobject.name = name\n",
    "    mysillyobject.age = age\n",
    "\n",
    "  def myfunc(abc):\n",
    "    print(\"Hello my name is \" + abc.name)\n",
    "\n",
    "p1 = Person(\"John\", 36)\n",
    "p1.myfunc()"
   ]
  },
  {
   "cell_type": "markdown",
   "id": "41b35f43-eea1-4e1f-8f8b-220142a8a0ce",
   "metadata": {},
   "source": [
    "### Question 5"
   ]
  },
  {
   "cell_type": "markdown",
   "id": "eea7de05-408a-4797-acd3-ac1b231926cb",
   "metadata": {},
   "source": [
    "What is inheritance? Give an example for each type of inheritance."
   ]
  },
  {
   "cell_type": "markdown",
   "id": "5876ec0d-b5f0-43db-a860-e121bcbbd253",
   "metadata": {},
   "source": [
    "### Answer"
   ]
  },
  {
   "cell_type": "markdown",
   "id": "ce14ac80-b88f-439a-b5d8-3ac1a135fb9c",
   "metadata": {},
   "source": [
    "Inheritance is defined as the mechanism of inheriting the properties of the base class to the child class.\n",
    "### Types of Inheritance in Python\n",
    "Types of Inheritance depend upon the number of child and parent classes involved. There are four types of inheritance in Python:\n",
    "\n",
    "### Single Inheritance: \n",
    "Single inheritance enables a derived class to inherit properties from a single parent class, thus enabling code reusability and the addition of new features to existing code. Example:"
   ]
  },
  {
   "cell_type": "code",
   "execution_count": 9,
   "id": "7391637c-9090-4f0c-b31f-5d7fd3de98a2",
   "metadata": {},
   "outputs": [
    {
     "name": "stdout",
     "output_type": "stream",
     "text": [
      "This function is in parent class.\n",
      "This function is in child class.\n"
     ]
    }
   ],
   "source": [
    "# Python program to demonstrate\n",
    "# single inheritance\n",
    " \n",
    "# Base class\n",
    "class Parent:\n",
    "    def func1(self):\n",
    "        print(\"This function is in parent class.\")\n",
    " \n",
    "# Derived class\n",
    " \n",
    " \n",
    "class Child(Parent):\n",
    "    def func2(self):\n",
    "        print(\"This function is in child class.\")\n",
    " \n",
    " \n",
    "# Driver's code\n",
    "object = Child()\n",
    "object.func1()\n",
    "object.func2()"
   ]
  },
  {
   "cell_type": "markdown",
   "id": "acece94c-e294-4374-b266-5a2f5ed1d216",
   "metadata": {},
   "source": [
    "### Multiple Inheritance: \n",
    "When a class can be derived from more than one base class this type of inheritance is called multiple inheritances. In multiple inheritances, all the features of the base classes are inherited into the derived class. Example:"
   ]
  },
  {
   "cell_type": "code",
   "execution_count": 10,
   "id": "fc9a05f0-3930-4c37-9f9a-f5fd85a3ccf6",
   "metadata": {},
   "outputs": [
    {
     "name": "stdout",
     "output_type": "stream",
     "text": [
      "Father : RAM\n",
      "Mother : SITA\n"
     ]
    }
   ],
   "source": [
    "# Python program to demonstrate\n",
    "# multiple inheritance\n",
    " \n",
    "# Base class1\n",
    "class Mother:\n",
    "    mothername = \"\"\n",
    " \n",
    "    def mother(self):\n",
    "        print(self.mothername)\n",
    " \n",
    "# Base class2\n",
    " \n",
    " \n",
    "class Father:\n",
    "    fathername = \"\"\n",
    " \n",
    "    def father(self):\n",
    "        print(self.fathername)\n",
    " \n",
    "# Derived class\n",
    " \n",
    " \n",
    "class Son(Mother, Father):\n",
    "    def parents(self):\n",
    "        print(\"Father :\", self.fathername)\n",
    "        print(\"Mother :\", self.mothername)\n",
    " \n",
    " \n",
    "# Driver's code\n",
    "s1 = Son()\n",
    "s1.fathername = \"RAM\"\n",
    "s1.mothername = \"SITA\"\n",
    "s1.parents()"
   ]
  },
  {
   "cell_type": "markdown",
   "id": "9898b27e-fce2-4b58-a85f-9ed5911b64ed",
   "metadata": {},
   "source": [
    "### Multilevel Inheritance :\n",
    "In multilevel inheritance, features of the base class and the derived class are further inherited into the new derived class. This is similar to a relationship representing a child and a grandfather. Example:\n",
    "\n"
   ]
  },
  {
   "cell_type": "code",
   "execution_count": 11,
   "id": "99d0c020-59c7-412a-a58b-07e678d8934f",
   "metadata": {},
   "outputs": [
    {
     "name": "stdout",
     "output_type": "stream",
     "text": [
      "Lal mani\n",
      "Grandfather name : Lal mani\n",
      "Father name : Rampal\n",
      "Son name : Prince\n"
     ]
    }
   ],
   "source": [
    "# Python program to demonstrate\n",
    "# multilevel inheritance\n",
    " \n",
    "# Base class\n",
    " \n",
    " \n",
    "class Grandfather:\n",
    " \n",
    "    def __init__(self, grandfathername):\n",
    "        self.grandfathername = grandfathername\n",
    " \n",
    "# Intermediate class\n",
    " \n",
    " \n",
    "class Father(Grandfather):\n",
    "    def __init__(self, fathername, grandfathername):\n",
    "        self.fathername = fathername\n",
    " \n",
    "        # invoking constructor of Grandfather class\n",
    "        Grandfather.__init__(self, grandfathername)\n",
    " \n",
    "# Derived class\n",
    " \n",
    " \n",
    "class Son(Father):\n",
    "    def __init__(self, sonname, fathername, grandfathername):\n",
    "        self.sonname = sonname\n",
    " \n",
    "        # invoking constructor of Father class\n",
    "        Father.__init__(self, fathername, grandfathername)\n",
    " \n",
    "    def print_name(self):\n",
    "        print('Grandfather name :', self.grandfathername)\n",
    "        print(\"Father name :\", self.fathername)\n",
    "        print(\"Son name :\", self.sonname)\n",
    " \n",
    " \n",
    "#  Driver code\n",
    "s1 = Son('Prince', 'Rampal', 'Lal mani')\n",
    "print(s1.grandfathername)\n",
    "s1.print_name()"
   ]
  },
  {
   "cell_type": "markdown",
   "id": "fe820501-7d98-4923-9b09-e782f6abf2c9",
   "metadata": {},
   "source": [
    "### Hierarchical Inheritance: \n",
    "When more than one derived class are created from a single base this type of inheritance is called hierarchical inheritance. In this program, we have a parent (base) class and two child (derived) classes. Example:"
   ]
  },
  {
   "cell_type": "code",
   "execution_count": 12,
   "id": "d7cdec8d-5280-4640-b29d-9f993e4690c6",
   "metadata": {},
   "outputs": [
    {
     "name": "stdout",
     "output_type": "stream",
     "text": [
      "This function is in parent class.\n",
      "This function is in child 1.\n",
      "This function is in parent class.\n",
      "This function is in child 2.\n"
     ]
    }
   ],
   "source": [
    "# Python program to demonstrate\n",
    "# Hierarchical inheritance\n",
    " \n",
    " \n",
    "# Base class\n",
    "class Parent:\n",
    "    def func1(self):\n",
    "        print(\"This function is in parent class.\")\n",
    " \n",
    "# Derived class1\n",
    " \n",
    " \n",
    "class Child1(Parent):\n",
    "    def func2(self):\n",
    "        print(\"This function is in child 1.\")\n",
    " \n",
    "# Derivied class2\n",
    " \n",
    " \n",
    "class Child2(Parent):\n",
    "    def func3(self):\n",
    "        print(\"This function is in child 2.\")\n",
    " \n",
    " \n",
    "# Driver's code\n",
    "object1 = Child1()\n",
    "object2 = Child2()\n",
    "object1.func1()\n",
    "object1.func2()\n",
    "object2.func1()\n",
    "object2.func3()"
   ]
  },
  {
   "cell_type": "markdown",
   "id": "becb148d-ea6b-400c-8bde-07d2c745472f",
   "metadata": {},
   "source": [
    "### Hybrid Inheritance: \n",
    "Inheritance consisting of multiple types of inheritance is called hybrid inheritance. Example:"
   ]
  },
  {
   "cell_type": "code",
   "execution_count": 13,
   "id": "3b1a68e2-8b8e-4c79-89fe-0e2b4e187d50",
   "metadata": {},
   "outputs": [
    {
     "name": "stdout",
     "output_type": "stream",
     "text": [
      "This function is in school.\n",
      "This function is in student 1. \n"
     ]
    }
   ],
   "source": [
    "# Python program to demonstrate\n",
    "# hybrid inheritance\n",
    " \n",
    " \n",
    "class School:\n",
    "    def func1(self):\n",
    "        print(\"This function is in school.\")\n",
    " \n",
    " \n",
    "class Student1(School):\n",
    "    def func2(self):\n",
    "        print(\"This function is in student 1. \")\n",
    " \n",
    " \n",
    "class Student2(School):\n",
    "    def func3(self):\n",
    "        print(\"This function is in student 2.\")\n",
    " \n",
    " \n",
    "class Student3(Student1, School):\n",
    "    def func4(self):\n",
    "        print(\"This function is in student 3.\")\n",
    " \n",
    " \n",
    "# Driver's code\n",
    "object = Student3()\n",
    "object.func1()\n",
    "object.func2()"
   ]
  },
  {
   "cell_type": "code",
   "execution_count": null,
   "id": "f033240f-a55f-4e6b-8113-cf12cdc7731d",
   "metadata": {},
   "outputs": [],
   "source": []
  }
 ],
 "metadata": {
  "kernelspec": {
   "display_name": "Python 3 (ipykernel)",
   "language": "python",
   "name": "python3"
  },
  "language_info": {
   "codemirror_mode": {
    "name": "ipython",
    "version": 3
   },
   "file_extension": ".py",
   "mimetype": "text/x-python",
   "name": "python",
   "nbconvert_exporter": "python",
   "pygments_lexer": "ipython3",
   "version": "3.10.8"
  }
 },
 "nbformat": 4,
 "nbformat_minor": 5
}
